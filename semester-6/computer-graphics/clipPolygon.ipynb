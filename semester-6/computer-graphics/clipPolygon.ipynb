{
 "cells": [
  {
   "cell_type": "code",
   "execution_count": 46,
   "metadata": {},
   "outputs": [],
   "source": [
    "%matplotlib inline\n",
    "import matplotlib.pyplot as plt\n",
    "import numpy as np"
   ]
  },
  {
   "cell_type": "code",
   "execution_count": 35,
   "metadata": {},
   "outputs": [],
   "source": [
    "def sort_vertices(pts):\n",
    "    xpts = pts[:, 0]\n",
    "    ypts = pts[:, 1]\n",
    "    xc = np.sum(xpts) / len(xpts)\n",
    "    yc = np.sum(ypts) / len(ypts)\n",
    "    theta = np.arctan2(ypts - yc, xpts - xc) * 180 / np.pi\n",
    "    indices = np.argsort(theta)\n",
    "    return pts[indices]\n",
    "\n",
    "def compute_intx_pt(a, b):\n",
    "    pt1, pt2 = a\n",
    "    pt3, pt4 = b\n",
    "    den = np.cross(pt1 - pt2, pt3 - pt4)\n",
    "    nums = np.cross(pt1, pt2) * (pt3 - pt4) - np.cross(pt3, pt4) * (pt1 - pt2)\n",
    "    return nums / den\n",
    "\n",
    "def clipPoly(start, dims, poly):\n",
    "    plt.figure(figsize=(5, 5))\n",
    "    sorted_poly = sort_vertices(poly)\n",
    "    plt.scatter(poly[:, 0], poly[:, 1])\n",
    "    plt.fill(sorted_poly[:, 0], sorted_poly[:, 1], fc=\"blue\", alpha=0.5)\n",
    "    plt.gca().add_patch(plt.Rectangle(start, dims[0], dims[1], fc=\"none\", ec=\"black\"))\n",
    "    plt.xlim(0, 100)\n",
    "    plt.ylim(0, 100)\n",
    "    \n",
    "    w_pts = np.array([start, start + [0, dims[1]], start + dims, start + [dims[0], 0]])\n",
    "    for i in range(len(w_pts)):\n",
    "        poly_pts = []\n",
    "        pt1 = w_pts[i]\n",
    "        pt2 = w_pts[(i + 1) % len(w_pts)]\n",
    "        p = np.apply_along_axis(lambda x: np.cross(pt2 - pt1, x - pt1), 1, sorted_poly)\n",
    "        for j in range(len(p)):\n",
    "            \n",
    "            cur, nextt = j, (j + 1) % len(p) \n",
    "            if p[cur] < 0 and p[nextt] < 0:\n",
    "                poly_pts.append(sorted_poly[nextt])\n",
    "            elif p[cur] < 0:\n",
    "                intx_pt = compute_intx_pt((sorted_poly[cur], sorted_poly[nextt]), (pt1, pt2))\n",
    "                poly_pts.append(intx_pt)\n",
    "            elif p[nextt] < 0:\n",
    "                intx_pt = compute_intx_pt((sorted_poly[cur], sorted_poly[nextt]), (pt1, pt2))\n",
    "                poly_pts.append(intx_pt)\n",
    "                poly_pts.append(sorted_poly[nextt])\n",
    "        if not poly_pts:\n",
    "            sorted_poly = []\n",
    "            break\n",
    "        sorted_poly = sort_vertices(np.array(poly_pts))\n",
    "    if len(sorted_poly):\n",
    "        print(\"Vertices of the visible portion of the polygon\")\n",
    "        plt.scatter(sorted_poly[:, 0], sorted_poly[:, 1], color=\"k\")\n",
    "        sorted_poly = np.round(sorted_poly, 2)\n",
    "        print(\"\\n\".join(list(map(str, list(zip(sorted_poly[:, 0], sorted_poly[:, 1]))))))\n",
    "    else:\n",
    "        print(\"Polygon not visible\")\n",
    "    plt.show()"
   ]
  },
  {
   "cell_type": "code",
   "execution_count": 45,
   "metadata": {},
   "outputs": [
    {
     "name": "stdout",
     "output_type": "stream",
     "text": [
      "Polygon vertices\n",
      "(33, 10)\n",
      "(33, 85)\n",
      "(84, 24)\n",
      "\n",
      "\n",
      "Clipping Window\n",
      "Start point: (28, 30)\n",
      "Dimensions: (14, 13)\n",
      "Vertices of the visible portion of the polygon\n",
      "(33.0, 30.0)\n",
      "(42.0, 30.0)\n",
      "(42.0, 43.0)\n",
      "(33.0, 43.0)\n"
     ]
    },
    {
     "data": {
      "image/png": "[encoded data removed]",
      "text/plain": [
       "<Figure size 360x360 with 1 Axes>"
      ]
     },
     "metadata": {
      "needs_background": "light"
     },
     "output_type": "display_data"
    }
   ],
   "source": [
    "polysize = np.random.randint(3, 10)\n",
    "pts = np.random.randint(1, 100, (polysize, 2))\n",
    "start = np.random.randint(1, 50, (2,))\n",
    "dims = np.random.randint(1, 50, (2,))\n",
    "print(\"Polygon vertices\")\n",
    "print(\"\\n\".join(list(map(str, list(zip(pts[:, 0], pts[:, 1]))))))\n",
    "print(\"\\n\\nClipping Window\")\n",
    "print(\"Start point:\", tuple(start))\n",
    "print(\"Dimensions:\", tuple(dims))\n",
    "clipPoly(start, dims, pts)"
   ]
  },
  {
   "cell_type": "code",
   "execution_count": null,
   "metadata": {},
   "outputs": [],
   "source": []
  }
 ],
 "metadata": {
  "kernelspec": {
   "display_name": "Python 3",
   "language": "python",
   "name": "python3"
  },
  "language_info": {
   "codemirror_mode": {
    "name": "ipython",
    "version": 3
   },
   "file_extension": ".py",
   "mimetype": "text/x-python",
   "name": "python",
   "nbconvert_exporter": "python",
   "pygments_lexer": "ipython3",
   "version": "3.7.7"
  }
 },
 "nbformat": 4,
 "nbformat_minor": 2
}
