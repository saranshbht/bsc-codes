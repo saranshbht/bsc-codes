{
 "cells": [
  {
   "cell_type": "code",
   "execution_count": 1,
   "metadata": {},
   "outputs": [],
   "source": [
    "%matplotlib inline\n",
    "import matplotlib.pyplot as plt\n",
    "import numpy as np"
   ]
  },
  {
   "cell_type": "code",
   "execution_count": 94,
   "metadata": {},
   "outputs": [],
   "source": [
    "def sort_vertices(pts):\n",
    "    xpts = pts[:, 0]\n",
    "    ypts = pts[:, 1]\n",
    "    xc = np.sum(xpts) / len(xpts)\n",
    "    yc = np.sum(ypts) / len(ypts)\n",
    "    theta = np.arctan2(ypts - yc, xpts - xc) * 180 / np.pi\n",
    "    indices = np.argsort(theta)\n",
    "    return pts[indices]\n",
    "\n",
    "def compute_intx_pt(a, b):\n",
    "    pt1, pt2 = a\n",
    "    pt3, pt4 = b\n",
    "    den = np.cross(pt1 - pt2, pt3 - pt4)\n",
    "    nums = np.cross(pt1, pt2) * (pt3 - pt4) - np.cross(pt3, pt4) * (pt1 - pt2)\n",
    "    return nums / den\n",
    "\n",
    "\n",
    "def fillPoly(poly):\n",
    "    plt.figure(figsize=(5, 5))\n",
    "    sorted_poly = sort_vertices(poly)\n",
    "    plt.scatter(sorted_poly[:, 0], sorted_poly[:, 1])\n",
    "    plt.xlim(0, 100)\n",
    "    plt.ylim(0, 100)\n",
    "    ymin, ymax = np.min(sorted_poly[:, 1]), np.max(sorted_poly[:, 1])\n",
    "    edges = np.empty((len(sorted_poly), 4))\n",
    "    for i in range(len(sorted_poly)):\n",
    "        a, b = sorted_poly[i], sorted_poly[(i + 1) % len(sorted_poly)]\n",
    "        if a[1] <= b[1]:\n",
    "            a, b = b, a\n",
    "        edges[i] = [a[0], a[1], b[0], b[1]]\n",
    "    edges[np.lexsort((edges[:, 2], edges[:, 3][::-1], edges[:, 1][::-1]))]\n",
    "    y = ymax\n",
    "    while y >= ymin:\n",
    "        active_edges = []\n",
    "        for edge in edges:\n",
    "            if y > edge[3] and y <= edge[1]:\n",
    "                active_edges.append(edge)\n",
    "        x_intersects = []\n",
    "        for edge in active_edges:\n",
    "            scanline = np.array([0, y, 100, y]).reshape(2, 2)\n",
    "            intx_pt = compute_intx_pt(scanline, edge.reshape(2, 2))\n",
    "            x_intersects.append(intx_pt[0])\n",
    "        x_intersects.sort()\n",
    "        for i in range(0, len(x_intersects), 2):\n",
    "            a, b = x_intersects[i], x_intersects[i + 1]\n",
    "            a, b = int(a), int(b)\n",
    "            plt.scatter(np.arange(a, b + 1), np.ones(b - a + 1) * y, color=\"orange\", alpha=0.3)\n",
    "        y -= 1\n",
    "    plt.show()"
   ]
  },
  {
   "cell_type": "code",
   "execution_count": 97,
   "metadata": {},
   "outputs": [
    {
     "name": "stdout",
     "output_type": "stream",
     "text": [
      "Polygon vertices\n",
      "(40, 8)\n",
      "(41, 68)\n",
      "(56, 18)\n",
      "(34, 17)\n",
      "(96, 33)\n"
     ]
    },
    {
     "data": {
      "image/png": "[encoded data removed]",
      "text/plain": [
       "<Figure size 360x360 with 1 Axes>"
      ]
     },
     "metadata": {
      "needs_background": "light"
     },
     "output_type": "display_data"
    }
   ],
   "source": [
    "polysize = np.random.randint(3, 10)\n",
    "pts = np.random.randint(1, 100, (polysize, 2))\n",
    "print(\"Polygon vertices\")\n",
    "print(\"\\n\".join(list(map(str, list(zip(pts[:, 0], pts[:, 1]))))))\n",
    "fillPoly(pts)"
   ]
  },
  {
   "cell_type": "code",
   "execution_count": null,
   "metadata": {},
   "outputs": [],
   "source": []
  }
 ],
 "metadata": {
  "kernelspec": {
   "display_name": "Python 3",
   "language": "python",
   "name": "python3"
  },
  "language_info": {
   "codemirror_mode": {
    "name": "ipython",
    "version": 3
   },
   "file_extension": ".py",
   "mimetype": "text/x-python",
   "name": "python",
   "nbconvert_exporter": "python",
   "pygments_lexer": "ipython3",
   "version": "3.7.7"
  }
 },
 "nbformat": 4,
 "nbformat_minor": 2
}
