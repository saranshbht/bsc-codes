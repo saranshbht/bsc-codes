{
 "cells": [
  {
   "cell_type": "code",
   "execution_count": 18,
   "metadata": {},
   "outputs": [],
   "source": [
    "%matplotlib inline\n",
    "import matplotlib.pyplot as plt\n",
    "import numpy as np\n",
    "from sympy import symbols, binomial, Poly"
   ]
  },
  {
   "cell_type": "code",
   "execution_count": 139,
   "metadata": {},
   "outputs": [],
   "source": [
    "def sort_vertices(pts):\n",
    "    xpts = pts[:, 0]\n",
    "    ypts = pts[:, 1]\n",
    "    xc = np.sum(xpts) / len(xpts)\n",
    "    yc = np.sum(ypts) / len(ypts)\n",
    "    theta = np.arctan2(ypts - yc, xpts - xc) * 180 / np.pi\n",
    "    indices = np.argsort(theta)\n",
    "    return pts[indices]\n",
    "\n",
    "def drawBezier(pts):\n",
    "    num_pts = len(pts)\n",
    "    sorted_pts = sort_vertices(pts)\n",
    "    plt.figure(figsize=(5, 5))\n",
    "    plt.scatter(sorted_pts[:, 0], sorted_pts[:, 1])\n",
    "    plt.plot(sorted_pts[:, 0], sorted_pts[:, 1])\n",
    "    P = np.empty((100, num_pts))\n",
    "    param = np.linspace(0, 1, 100)\n",
    "    for i in range(num_pts):\n",
    "        P[:, i] = param ** (num_pts - i - 1)\n",
    "    H = np.empty((num_pts, num_pts))\n",
    "    x = symbols(\"x\")\n",
    "    \n",
    "    for i in range(num_pts):\n",
    "        H[:, i] = binomial(num_pts - 1, i) * np.array(Poly((1 - x) ** (num_pts - i - 1) * x ** i, x).all_coeffs())\n",
    "    finalPts = P @ H @ sorted_pts\n",
    "    plt.scatter(finalPts[:, 0], finalPts[:, 1], alpha=0.5)\n",
    "    plt.xlim(0, 100)\n",
    "    plt.ylim(0, 100)\n",
    "    plt.show()\n",
    "    \n",
    "def drawHermite(pts):\n",
    "    num_pts = len(pts)\n",
    "    if num_pts != 4:\n",
    "        print(\"Specify 4 points\")\n",
    "        return None\n",
    "    P = np.empty((100, num_pts))\n",
    "    param = np.linspace(0, 1, 100)\n",
    "    for i in range(num_pts):\n",
    "        P[:, i] = param ** (num_pts - i - 1)\n",
    "    H = np.empty((4, 4))\n",
    "    x = symbols(\"x\")\n",
    "    \n",
    "    H[:, 0] = [2, -3, 0, 1]\n",
    "    H[:, 1] = [-2, 3, 0, 0]\n",
    "    H[:, 2] = [1, -2, 1, 0]\n",
    "    H[:, 3] = [1, -1, 0, 0]\n",
    "    finalPts = P @ H @ pts\n",
    "    plt.figure(figsize=(5, 5))\n",
    "    plt.scatter(pts[:2, 0], pts[:2, 1])\n",
    "    plt.scatter(finalPts[:, 0], finalPts[:, 1], alpha=0.3)\n",
    "    plt.xlim(0, 100)\n",
    "    plt.ylim(0, 100)\n",
    "    plt.show()"
   ]
  },
  {
   "cell_type": "code",
   "execution_count": 140,
   "metadata": {},
   "outputs": [
    {
     "name": "stdout",
     "output_type": "stream",
     "text": [
      "Control Points\n",
      "(16, 71)\n",
      "(87, 70)\n",
      "(70, 5)\n",
      "(46, 27)\n",
      "(26, 28)\n",
      "(24, 74)\n",
      "(94, 5)\n",
      "(63, 97)\n",
      "(41, 98)\n"
     ]
    },
    {
     "data": {
      "image/png": "[encoded data removed]",
      "text/plain": [
       "<Figure size 360x360 with 1 Axes>"
      ]
     },
     "metadata": {
      "needs_background": "light"
     },
     "output_type": "display_data"
    }
   ],
   "source": [
    "num_pts = np.random.randint(3, 10)\n",
    "pts = np.random.randint(1, 100, (num_pts, 2))\n",
    "print(\"Control Points\")\n",
    "print(\"\\n\".join(list(map(str, list(zip(pts[:, 0], pts[:, 1]))))))\n",
    "drawBezier(pts)"
   ]
  },
  {
   "cell_type": "code",
   "execution_count": 144,
   "metadata": {},
   "outputs": [
    {
     "name": "stdout",
     "output_type": "stream",
     "text": [
      "End Points\n",
      "(53, 42)\n",
      "(19, 83)\n",
      "Direction Tangents at endpoints\n",
      "(93, 61)\n",
      "(73, 21)\n"
     ]
    },
    {
     "data": {
      "image/png": "[encoded data removed]",
      "text/plain": [
       "<Figure size 360x360 with 1 Axes>"
      ]
     },
     "metadata": {
      "needs_background": "light"
     },
     "output_type": "display_data"
    }
   ],
   "source": [
    "num_pts = 4\n",
    "pts = np.random.randint(1, 100, (num_pts, 2))\n",
    "print(\"End Points\")\n",
    "print(\"\\n\".join(list(map(str, list(zip(pts[:2, 0], pts[:2, 1]))))))\n",
    "print(\"Direction Tangents at endpoints\")\n",
    "print(\"\\n\".join(list(map(str, list(zip(pts[2:, 0], pts[2:, 1]))))))\n",
    "drawHermite(pts)"
   ]
  },
  {
   "cell_type": "code",
   "execution_count": null,
   "metadata": {},
   "outputs": [],
   "source": []
  }
 ],
 "metadata": {
  "kernelspec": {
   "display_name": "Python 3",
   "language": "python",
   "name": "python3"
  },
  "language_info": {
   "codemirror_mode": {
    "name": "ipython",
    "version": 3
   },
   "file_extension": ".py",
   "mimetype": "text/x-python",
   "name": "python",
   "nbconvert_exporter": "python",
   "pygments_lexer": "ipython3",
   "version": "3.7.7"
  }
 },
 "nbformat": 4,
 "nbformat_minor": 2
}
