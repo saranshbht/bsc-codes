{
 "cells": [
  {
   "cell_type": "code",
   "execution_count": 1,
   "metadata": {},
   "outputs": [],
   "source": [
    "%matplotlib inline\n",
    "import matplotlib.pyplot as plt\n",
    "import random"
   ]
  },
  {
   "cell_type": "code",
   "execution_count": 20,
   "metadata": {},
   "outputs": [],
   "source": [
    "def drawCircle(a, r):\n",
    "    xc, yc = a\n",
    "    x, y, p = 0, r, 1 - r\n",
    "    xpoints, ypoints = [], []\n",
    "    while x <= y:\n",
    "        xpoints.append(x)\n",
    "        ypoints.append(y)\n",
    "        if p < 0:\n",
    "            p += 2 * x + 3\n",
    "        else:\n",
    "            p += 2 * (x - y) + 5\n",
    "            y -= 1\n",
    "        x += 1\n",
    "    cxpoints, cypoints = [], []\n",
    "    for i in range(len(xpoints)):\n",
    "        a, b = xpoints[i], ypoints[i]\n",
    "        cxpoints.extend([a + xc, -a + xc, a + xc, -a + xc])\n",
    "        cypoints.extend([b + yc, b + yc, -b + yc, -b + yc])\n",
    "        a, b = b, a\n",
    "        cxpoints.extend([a + xc, -a + xc, a + xc, -a + xc])\n",
    "        cypoints.extend([b + yc, b + yc, -b + yc, -b + yc])\n",
    "#     print(\"Generated points\")\n",
    "#     print(\"\\n\".join(list(map(str, list(zip(cxpoints, cypoints))))))\n",
    "    plt.figure(figsize=(5, 5))\n",
    "    plt.scatter(cxpoints, cypoints)\n",
    "    plt.xlim(-10, 160)\n",
    "    plt.ylim(-10, 160)\n",
    "    plt.plot()"
   ]
  },
  {
   "cell_type": "code",
   "execution_count": 23,
   "metadata": {
    "scrolled": false
   },
   "outputs": [
    {
     "name": "stdout",
     "output_type": "stream",
     "text": [
      "Centre: (69, 88)\n",
      "Radius: 19\n"
     ]
    },
    {
     "data": {
      "image/png": "[encoded data removed]",
      "text/plain": [
       "<Figure size 360x360 with 1 Axes>"
      ]
     },
     "metadata": {
      "needs_background": "light"
     },
     "output_type": "display_data"
    }
   ],
   "source": [
    "a = tuple(random.sample(range(50, 100), 2))\n",
    "radius = random.randint(1, 50)\n",
    "print(\"Centre:\", a)\n",
    "print(\"Radius:\", radius)\n",
    "drawCircle(a, radius)"
   ]
  },
  {
   "cell_type": "code",
   "execution_count": null,
   "metadata": {},
   "outputs": [],
   "source": []
  }
 ],
 "metadata": {
  "kernelspec": {
   "display_name": "Python 3",
   "language": "python",
   "name": "python3"
  },
  "language_info": {
   "codemirror_mode": {
    "name": "ipython",
    "version": 3
   },
   "file_extension": ".py",
   "mimetype": "text/x-python",
   "name": "python",
   "nbconvert_exporter": "python",
   "pygments_lexer": "ipython3",
   "version": "3.7.7"
  }
 },
 "nbformat": 4,
 "nbformat_minor": 2
}
