{
 "cells": [
  {
   "cell_type": "code",
   "execution_count": 1,
   "metadata": {},
   "outputs": [],
   "source": [
    "%matplotlib inline\n",
    "import matplotlib.pyplot as plt\n",
    "import random"
   ]
  },
  {
   "cell_type": "code",
   "execution_count": 6,
   "metadata": {},
   "outputs": [],
   "source": [
    "def drawLine(a, b):\n",
    "    x, y = a\n",
    "    x1, y1 = a\n",
    "    x2, y2 = b\n",
    "    dx = x2 - x1\n",
    "    dy = y2 - y1\n",
    "    sign1 = dx // abs(dx) if dx else 0\n",
    "    sign2 = dy // abs(dy) if dy else 0\n",
    "    dx *= sign1\n",
    "    dy *= sign2\n",
    "    swap = True\n",
    "    \n",
    "    if dy > dx:\n",
    "        dx, dy = dy, dx\n",
    "    else:\n",
    "        swap = not swap\n",
    "    e = 2 * dy - dx\n",
    "    a = 2 * dy\n",
    "    b = 2 * (dy - dx)\n",
    "    xpoints, ypoints = [x], [y]\n",
    "    \n",
    "    for i in range(1, dx + 1):\n",
    "        if e < 0:\n",
    "            if swap:\n",
    "                y += sign2\n",
    "            else:\n",
    "                x += sign1\n",
    "            e += a\n",
    "        else:\n",
    "            y += sign2\n",
    "            x += sign1\n",
    "            e += b\n",
    "        xpoints.append(x)\n",
    "        ypoints.append(y)\n",
    "        \n",
    "#     print(\"Generated points\")\n",
    "#     print(\"\\n\".join(list(map(str, list(zip(xpoints, ypoints))))))\n",
    "    plt.figure(figsize=(5, 5))\n",
    "    plt.scatter(xpoints, ypoints)\n",
    "    plt.xlim(-10, 110)\n",
    "    plt.ylim(-10, 110)\n",
    "    plt.plot()"
   ]
  },
  {
   "cell_type": "code",
   "execution_count": 7,
   "metadata": {},
   "outputs": [
    {
     "name": "stdout",
     "output_type": "stream",
     "text": [
      "End Points of the Line\n",
      "(88, 6)\n",
      "(46, 60)\n"
     ]
    },
    {
     "data": {
      "image/png": "[encoded data removed]",
      "text/plain": [
       "<Figure size 360x360 with 1 Axes>"
      ]
     },
     "metadata": {
      "needs_background": "light"
     },
     "output_type": "display_data"
    }
   ],
   "source": [
    "a = tuple(random.sample(range(1, 100), 2))\n",
    "b = tuple(random.sample(range(1, 100), 2))\n",
    "print(\"End Points of the Line\")\n",
    "print(a)\n",
    "print(b)\n",
    "drawLine(a, b)"
   ]
  },
  {
   "cell_type": "code",
   "execution_count": null,
   "metadata": {},
   "outputs": [],
   "source": []
  }
 ],
 "metadata": {
  "kernelspec": {
   "display_name": "Python 3",
   "language": "python",
   "name": "python3"
  },
  "language_info": {
   "codemirror_mode": {
    "name": "ipython",
    "version": 3
   },
   "file_extension": ".py",
   "mimetype": "text/x-python",
   "name": "python",
   "nbconvert_exporter": "python",
   "pygments_lexer": "ipython3",
   "version": "3.7.7"
  }
 },
 "nbformat": 4,
 "nbformat_minor": 2
}
