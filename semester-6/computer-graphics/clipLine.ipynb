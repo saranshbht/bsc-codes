{
 "cells": [
  {
   "cell_type": "code",
   "execution_count": 1,
   "metadata": {},
   "outputs": [],
   "source": [
    "%matplotlib inline\n",
    "import matplotlib.pyplot as plt\n",
    "import random"
   ]
  },
  {
   "cell_type": "code",
   "execution_count": 2,
   "metadata": {},
   "outputs": [],
   "source": [
    "def computeCode(start, dims, a):\n",
    "    xmin, ymin = start\n",
    "    xmax, ymax = xmin + dims[0], ymin + dims[1]\n",
    "    code = 0\n",
    "    x, y = a\n",
    "    if x < xmin:\n",
    "        code += 1\n",
    "    elif x > xmax:\n",
    "        code += 2\n",
    "    if y < ymin:\n",
    "        code += 4\n",
    "    elif y > ymax:\n",
    "        code += 8\n",
    "    return code\n",
    "\n",
    "def clipLine(start, dims, a, b):\n",
    "    try:\n",
    "        xmin, ymin = start\n",
    "        xmax, ymax = xmin + dims[0], ymin + dims[1]\n",
    "        (x1, y1), (x2, y2) = a, b\n",
    "        code1 = computeCode(start, dims, a)\n",
    "        code2 = computeCode(start, dims, b)\n",
    "        res = False\n",
    "        while True:\n",
    "            if (code1 & code2):\n",
    "                break\n",
    "            elif not (code1 | code2):\n",
    "                res = True\n",
    "                break\n",
    "            else:\n",
    "                m = (y2 - y1) / (x2 - x1)\n",
    "                x, y = None, None\n",
    "                outsidePtCode = code1 if code1 > code2 else code2\n",
    "                if outsidePtCode & 1:\n",
    "                    y = y1 + m * (xmin - x1)\n",
    "                    x = xmin\n",
    "                elif outsidePtCode & 2:\n",
    "                    y = y1 + m * (xmax - x1)\n",
    "                    x = xmax\n",
    "                elif outsidePtCode & 4:\n",
    "                    x = x1 + (ymin - y1) / m\n",
    "                    y = ymin\n",
    "                else:\n",
    "                    x = x1 + (ymax - y1) / m\n",
    "                    y = ymax\n",
    "\n",
    "                if outsidePtCode == code1:\n",
    "                    x1, y1 = x, y\n",
    "                    code1 = computeCode(start, dims, (x1, y1))\n",
    "                else:\n",
    "                    x2, y2 = x, y\n",
    "                    code2 = computeCode(start, dims, (x2, y2))\n",
    "    #             print(x1, y1, x2, y2, code1, code2)\n",
    "        if res:\n",
    "            print(\"Visible portion of line:\", (x1, y1), \"to\", (x2, y2))\n",
    "        else:\n",
    "            print(\"Line not visible\")\n",
    "        plt.figure(figsize=(5, 5))\n",
    "        plt.gca().add_patch(plt.Rectangle(start, dims[0], dims[1], fc=\"white\", ec=\"black\"))\n",
    "        plt.plot((a[0], b[0]), (a[1], b[1]))\n",
    "        plt.xlim(-10, 110)\n",
    "        plt.ylim(-10, 110)\n",
    "        plt.show()\n",
    "    except:\n",
    "        print(\"Make sure x1 != x2 and y1 != y2\")"
   ]
  },
  {
   "cell_type": "code",
   "execution_count": 14,
   "metadata": {},
   "outputs": [
    {
     "name": "stdout",
     "output_type": "stream",
     "text": [
      "Clipping Window\n",
      "Start point: (26, 49)\n",
      "Dimensions: (44, 47)\n",
      "Line Endpoints\n",
      "(91, 81)\n",
      "(63, 50)\n",
      "Visible portion of line: (70, 57.75) to (63, 50)\n"
     ]
    },
    {
     "data": {
      "image/png": "[encoded data removed]",
      "text/plain": [
       "<Figure size 360x360 with 1 Axes>"
      ]
     },
     "metadata": {
      "needs_background": "light"
     },
     "output_type": "display_data"
    }
   ],
   "source": [
    "start = tuple(random.sample(range(1, 50), 2))\n",
    "dims = tuple(random.sample(range(1, 50), 2))\n",
    "a = tuple(random.sample(range(1, 100), 2))\n",
    "b = tuple(random.sample(range(1, 100), 2))\n",
    "print(\"Clipping Window\")\n",
    "print(\"Start point:\", start)\n",
    "print(\"Dimensions:\", dims)\n",
    "print(\"Line Endpoints\")\n",
    "print(a)\n",
    "print(b)\n",
    "clipLine(start, dims, a, b)"
   ]
  },
  {
   "cell_type": "code",
   "execution_count": null,
   "metadata": {},
   "outputs": [],
   "source": []
  }
 ],
 "metadata": {
  "kernelspec": {
   "display_name": "Python 3",
   "language": "python",
   "name": "python3"
  },
  "language_info": {
   "codemirror_mode": {
    "name": "ipython",
    "version": 3
   },
   "file_extension": ".py",
   "mimetype": "text/x-python",
   "name": "python",
   "nbconvert_exporter": "python",
   "pygments_lexer": "ipython3",
   "version": "3.7.7"
  }
 },
 "nbformat": 4,
 "nbformat_minor": 2
}
