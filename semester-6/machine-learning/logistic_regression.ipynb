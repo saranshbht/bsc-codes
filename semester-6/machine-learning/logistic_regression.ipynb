{
 "cells": [
  {
   "cell_type": "code",
   "execution_count": 56,
   "metadata": {},
   "outputs": [],
   "source": [
    "%matplotlib inline\n",
    "import pandas as pd\n",
    "import numpy as np\n",
    "from sklearn import datasets, metrics, model_selection, linear_model\n",
    "import matplotlib.pyplot as plt\n",
    "import seaborn as sns\n",
    "\n",
    "def normalize(a):\n",
    "    return (a - np.mean(a)) / (np.max(a) - np.min(a))\n",
    "\n",
    "def normalizeMnist(a):\n",
    "    return a / 255\n",
    "\n",
    "def normalizeDigits(a):\n",
    "    return a / 16\n",
    "\n",
    "def accuracy(true, pred):\n",
    "    a = true - pred\n",
    "    return len(a[a == 0]) / len(a)\n",
    "\n",
    "def logistic_regression(x, y, iters, alpha):\n",
    "    m = len(x)\n",
    "    cost = np.empty(iters)\n",
    "    theta = np.zeros(x.shape[1])\n",
    "    for i in range(iters):\n",
    "        pred = calculate_prob(x, theta)\n",
    "        cost[i] = (-1 / m) * np.sum(y * np.log(pred) + (1 - y) * np.log(1 - pred))\n",
    "        for j in range(x.shape[1]):\n",
    "            theta[j] = theta[j] - (alpha / m) * np.sum((pred - y) * x[:, j])\n",
    "    return theta, cost\n",
    "\n",
    "def calculate_prob(x, theta):\n",
    "    h = -1 * x @ theta\n",
    "    p = 1 / (1 + np.exp(h))\n",
    "    return p\n",
    "\n",
    "def predict(x, theta):\n",
    "    pred = calculate_prob(x, theta)\n",
    "    pred[pred < 0.5] = 0\n",
    "    pred[pred >= 0.5] = 1\n",
    "    return pred\n",
    "\n",
    "def preprocess(data, normalize):\n",
    "    m = len(data)\n",
    "    data_std = np.apply_along_axis(normalize, 0, data)\n",
    "    data_std = np.c_[np.ones(m), data_std]\n",
    "    return data_std\n"
   ]
  },
  {
   "cell_type": "code",
   "execution_count": 57,
   "metadata": {},
   "outputs": [],
   "source": [
    "def logistic_regression_multi(x, y, iters, alpha):\n",
    "    labels = np.unique(y).tolist()\n",
    "    theta = np.empty((x.shape[1], len(labels)))\n",
    "    cost = np.empty((iters, len(labels)))\n",
    "    for i in labels:\n",
    "        yCopy = np.copy(y)\n",
    "        yCopy[yCopy == i] = 100\n",
    "        yCopy[yCopy != 100] = 0\n",
    "        yCopy[yCopy == 100] = 1\n",
    "        theta[:, i], cost[:, i] = logistic_regression(x, yCopy, iters, alpha)\n",
    "    \n",
    "    return theta, cost\n",
    "\n",
    "def predict_multi(x, theta):\n",
    "    pred = calculate_prob(x, theta)\n",
    "    pred = np.argmax(pred, axis = 1)\n",
    "    return pred\n",
    "\n"
   ]
  },
  {
   "cell_type": "code",
   "execution_count": 1,
   "metadata": {},
   "outputs": [],
   "source": [
    "import tensorflow as tf\n",
    "(x_train, y_train), (x_test, y_test) = tf.keras.datasets.mnist.load_data()\n"
   ]
  },
  {
   "cell_type": "code",
   "execution_count": 52,
   "metadata": {},
   "outputs": [
    {
     "name": "stdout",
     "output_type": "stream",
     "text": [
      "[[0.69314718 0.69314718 0.69314718 0.69314718 0.69314718 0.69314718\n",
      "  0.69314718 0.69314718 0.69314718 0.69314718]\n",
      " [1.39124171 1.01476764 1.42232577 1.44062753 1.26814486 1.26640333\n",
      "  1.35689033 1.25466212 1.56024644 1.37595448]\n",
      " [0.71564967 0.63960373 0.92095    0.90897488 0.87927214 0.95099441\n",
      "  0.86686185 0.81342459 1.02857666 0.9426214 ]\n",
      " [0.14655527 0.28610863 0.42962497 0.39251611 0.49382749 0.636991\n",
      "  0.38523255 0.38131899 0.51166695 0.51528547]\n",
      " [0.09404094 0.0888797  0.16123031 0.18668508 0.17447535 0.33686635\n",
      "  0.10748526 0.11165874 0.29525001 0.21355816]\n",
      " [0.08677676 0.06284966 0.15597134 0.19573412 0.1519197  0.19791048\n",
      "  0.10289296 0.10219369 0.40830361 0.20738187]\n",
      " [0.08287046 0.05983981 0.15087493 0.18298262 0.15089619 0.20093396\n",
      "  0.09900134 0.09830136 0.32723554 0.20597985]\n",
      " [0.08005435 0.05870373 0.14861407 0.19546333 0.13513086 0.20005713\n",
      "  0.09567284 0.09543468 0.58425987 0.20780387]\n",
      " [0.07764304 0.05777564 0.14307836 0.17163944 0.13154148 0.22751954\n",
      "  0.09279064 0.09308687 0.22246541 0.22739814]\n",
      " [0.07551767 0.05692556 0.14089561 0.17717436 0.12250993 0.19579882\n",
      "  0.0902673  0.09105195 0.21796901 0.22621846]\n",
      " [0.07362256 0.05613725 0.13496582 0.15704693 0.11866863 0.22706169\n",
      "  0.08803329 0.08925719 0.21424625 0.2807188 ]\n",
      " [0.07191863 0.05540343 0.13212227 0.15644264 0.1138702  0.18335739\n",
      "  0.08603603 0.08765835 0.21104777 0.21516018]\n",
      " [0.07037559 0.0547184  0.12751673 0.14453316 0.11092859 0.20329942\n",
      "  0.08423614 0.08622269 0.20832012 0.25843139]\n",
      " [0.06896937 0.0540773  0.12477681 0.14181124 0.1082132  0.17579111\n",
      "  0.08260322 0.0849245  0.20623844 0.20835448]\n",
      " [0.06768064 0.05347592 0.1218246  0.1356585  0.10612321 0.19037716\n",
      "  0.08111341 0.08374326 0.20535542 0.24479623]\n",
      " [0.06649367 0.0529106  0.11970281 0.13308115 0.10429048 0.16811569\n",
      "  0.07974739 0.08266238 0.20807588 0.20060925]\n",
      " [0.06539555 0.05237812 0.11778559 0.12995092 0.10269179 0.17735734\n",
      "  0.07848936 0.08166831 0.21623156 0.22926782]\n",
      " [0.06437557 0.05187565 0.11619758 0.12807558 0.10124213 0.16112691\n",
      "  0.07732616 0.08074989 0.25161324 0.19355507]\n",
      " [0.06342476 0.05140067 0.11477918 0.12631983 0.09991016 0.1662689\n",
      "  0.07624679 0.07989784 0.26447419 0.21563331]\n",
      " [0.06253553 0.05095093 0.11350571 0.12499791 0.09867225 0.15483746\n",
      "  0.07524191 0.07910439 0.39651712 0.18671236]]\n"
     ]
    },
    {
     "data": {
      "image/png": "[encoded data removed]",
      "text/plain": [
       "<Figure size 432x288 with 1 Axes>"
      ]
     },
     "metadata": {
      "needs_background": "light"
     },
     "output_type": "display_data"
    },
    {
     "name": "stdout",
     "output_type": "stream",
     "text": [
      "0.8217333333333333\n",
      "0.8315\n"
     ]
    }
   ],
   "source": [
    "#testing Mnist dataset\n",
    "x_train.shape = (x_train.shape[0], x_train[0].size)\n",
    "x_test.shape = (x_test.shape[0], x_test[0].size)\n",
    "x_train = preprocess(x_train, normalizeMnist)\n",
    "x_test = preprocess(x_test, normalizeMnist)\n",
    "iters = 100\n",
    "alpha = 1\n",
    "theta, cost = logistic_regression_multi(x_train, y_train, iters, alpha)\n",
    "plt.scatter(np.arange(iters), cost[:, 1])\n",
    "plt.show()\n",
    "y_train_pred = predict_multi(x_train, theta)\n",
    "y_test_pred = predict_multi(x_test, theta)\n",
    "print(accuracy(y_train_pred, y_train))\n",
    "print(accuracy(y_test_pred, y_test))"
   ]
  },
  {
   "cell_type": "code",
   "execution_count": 13,
   "metadata": {},
   "outputs": [
    {
     "name": "stdout",
     "output_type": "stream",
     "text": [
      "0.8795666666666667\n",
      "0.8881\n"
     ]
    }
   ],
   "source": []
  },
  {
   "cell_type": "code",
   "execution_count": 7,
   "metadata": {},
   "outputs": [
    {
     "data": {
      "text/plain": [
       "(60000, 785)"
      ]
     },
     "execution_count": 7,
     "metadata": {},
     "output_type": "execute_result"
    }
   ],
   "source": [
    "x_train.shape"
   ]
  },
  {
   "cell_type": "code",
   "execution_count": 8,
   "metadata": {},
   "outputs": [
    {
     "data": {
      "text/plain": [
       "(10000, 785)"
      ]
     },
     "execution_count": 8,
     "metadata": {},
     "output_type": "execute_result"
    }
   ],
   "source": [
    "x_test.shape"
   ]
  },
  {
   "cell_type": "code",
   "execution_count": 41,
   "metadata": {},
   "outputs": [
    {
     "name": "stdout",
     "output_type": "stream",
     "text": [
      "0.9912087912087912\n",
      "0.9736842105263158\n"
     ]
    },
    {
     "data": {
      "image/png": "[encoded data removed]",
      "text/plain": [
       "<Figure size 432x288 with 1 Axes>"
      ]
     },
     "metadata": {
      "needs_background": "light"
     },
     "output_type": "display_data"
    }
   ],
   "source": [
    "#testing on breast-cancer dataset\n",
    "breast_cancer = datasets.load_breast_cancer()\n",
    "x, y = preprocess(breast_cancer.data, normalize), breast_cancer.target\n",
    "x_train, x_test, y_train, y_test = model_selection.train_test_split(x, y, test_size=0.2, random_state=1)\n",
    "iters = 10000\n",
    "alpha = 1\n",
    "theta, cost = logistic_regression(x_train, y_train, iters, alpha)\n",
    "# print(cost)\n",
    "# print(theta)\n",
    "y_train_pred = predict(x_train, theta)\n",
    "y_test_pred = predict(x_test, theta)\n",
    "# print(y_test_pred)\n",
    "# print(y_test_pred)\n",
    "print(accuracy(y_train_pred, y_train))\n",
    "print(accuracy(y_test_pred, y_test))\n",
    "plt.scatter(np.arange(iters), cost)\n",
    "plt.show()"
   ]
  },
  {
   "cell_type": "code",
   "execution_count": 43,
   "metadata": {},
   "outputs": [
    {
     "name": "stdout",
     "output_type": "stream",
     "text": [
      "0.9583333333333334\n",
      "0.9666666666666667\n"
     ]
    },
    {
     "data": {
      "image/png": "[encoded data removed]",
      "text/plain": [
       "<Figure size 432x288 with 1 Axes>"
      ]
     },
     "metadata": {
      "needs_background": "light"
     },
     "output_type": "display_data"
    }
   ],
   "source": [
    "#testing on iris dataset\n",
    "iris = datasets.load_iris()\n",
    "x, y = preprocess(iris.data), iris.target\n",
    "x_train, x_test, y_train, y_test = model_selection.train_test_split(x, y, test_size=0.2, random_state=1)\n",
    "iters = 10000\n",
    "alpha = 1\n",
    "theta, cost = logistic_regression_multi(x_train, y_train, iters, alpha)\n",
    "y_train_pred = predict_multi(x_train, theta)\n",
    "y_test_pred = predict_multi(x_test, theta)\n",
    "print(accuracy(y_train_pred, y_train))\n",
    "print(accuracy(y_test_pred, y_test))\n",
    "plt.scatter(np.arange(iters), cost[:, 1])\n",
    "plt.show()"
   ]
  },
  {
   "cell_type": "code",
   "execution_count": 86,
   "metadata": {},
   "outputs": [
    {
     "name": "stdout",
     "output_type": "stream",
     "text": [
      "0.9846903270702854\n",
      "0.975\n"
     ]
    },
    {
     "data": {
      "image/png": "[encoded data removed]",
      "text/plain": [
       "<Figure size 432x288 with 1 Axes>"
      ]
     },
     "metadata": {
      "needs_background": "light"
     },
     "output_type": "display_data"
    }
   ],
   "source": [
    "#testing on digits dataset\n",
    "digits = datasets.load_digits()\n",
    "x, y = preprocess(digits.data, normalizeDigits), digits.target\n",
    "iters = 5000\n",
    "alpha = 1\n",
    "x_train, x_test, y_train, y_test = model_selection.train_test_split(x, y, test_size = 0.2, random_state = 1)\n",
    "theta, cost = logistic_regression_multi(x_train, y_train, iters, alpha)\n",
    "y_train_pred = predict_multi(x_train, theta)\n",
    "y_test_pred = predict_multi(x_test, theta)\n",
    "print(accuracy(y_train_pred, y_train))\n",
    "print(accuracy(y_test_pred, y_test))\n",
    "plt.scatter(np.arange(iters), cost[:, 1])\n",
    "plt.show()\n",
    "# x = (x.shape[0], x_train[0].size)"
   ]
  },
  {
   "cell_type": "code",
   "execution_count": 103,
   "metadata": {},
   "outputs": [
    {
     "data": {
      "image/png": "[encoded data removed]",
      "text/plain": [
       "<Figure size 180x1800 with 10 Axes>"
      ]
     },
     "metadata": {
      "needs_background": "light"
     },
     "output_type": "display_data"
    }
   ],
   "source": [
    "df = pd.DataFrame(np.c_[cost, np.arange(iters)]).rename(columns={df.columns.tolist()[-1]:'Iters'})\n",
    "g = sns.pairplot(data = df, x_vars=['Iters'], y_vars=df.columns.tolist()[:-1])\n",
    "g.map(plt.scatter)\n",
    "plt.show()"
   ]
  },
  {
   "cell_type": "code",
   "execution_count": null,
   "metadata": {},
   "outputs": [],
   "source": []
  }
 ],
 "metadata": {
  "kernelspec": {
   "display_name": "Python 3",
   "language": "python",
   "name": "python3"
  },
  "language_info": {
   "codemirror_mode": {
    "name": "ipython",
    "version": 3
   },
   "file_extension": ".py",
   "mimetype": "text/x-python",
   "name": "python",
   "nbconvert_exporter": "python",
   "pygments_lexer": "ipython3",
   "version": "3.7.4"
  }
 },
 "nbformat": 4,
 "nbformat_minor": 4
}
