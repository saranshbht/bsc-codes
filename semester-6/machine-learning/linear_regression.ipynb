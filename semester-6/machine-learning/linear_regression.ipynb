{
 "cells": [
  {
   "cell_type": "code",
   "execution_count": 65,
   "metadata": {},
   "outputs": [
    {
     "name": "stdout",
     "output_type": "stream",
     "text": [
      "     Gender  Age Range  Head Size(cm^3)  Brain Weight(grams)\n",
      "0         1          1             4512                 1530\n",
      "1         1          1             3738                 1297\n",
      "2         1          1             4261                 1335\n",
      "3         1          1             3777                 1282\n",
      "4         1          1             4177                 1590\n",
      "..      ...        ...              ...                  ...\n",
      "232       2          2             3214                 1110\n",
      "233       2          2             3394                 1215\n",
      "234       2          2             3233                 1104\n",
      "235       2          2             3352                 1170\n",
      "236       2          2             3391                 1120\n",
      "\n",
      "[237 rows x 4 columns]\n"
     ]
    }
   ],
   "source": [
    "%matplotlib inline\n",
    "import numpy as np\n",
    "import pandas as pd\n",
    "import matplotlib.pyplot as plt\n",
    "data = pd.read_csv('headbrain.csv')\n",
    "print(data)"
   ]
  },
  {
   "cell_type": "code",
   "execution_count": 66,
   "metadata": {},
   "outputs": [
    {
     "data": {
      "text/plain": [
       "pandas.core.series.Series"
      ]
     },
     "execution_count": 66,
     "metadata": {},
     "output_type": "execute_result"
    }
   ],
   "source": [
    "type(data['Head Size(cm^3)'])"
   ]
  },
  {
   "cell_type": "code",
   "execution_count": 67,
   "metadata": {},
   "outputs": [
    {
     "data": {
      "text/plain": [
       "numpy.ndarray"
      ]
     },
     "execution_count": 67,
     "metadata": {},
     "output_type": "execute_result"
    }
   ],
   "source": [
    "type(data['Head Size(cm^3)'].values)"
   ]
  },
  {
   "cell_type": "code",
   "execution_count": 68,
   "metadata": {},
   "outputs": [],
   "source": [
    "x = data['Head Size(cm^3)'].values\n",
    "y = data['Brain Weight(grams)'].values"
   ]
  },
  {
   "cell_type": "code",
   "execution_count": 69,
   "metadata": {},
   "outputs": [],
   "source": [
    "from sklearn.model_selection import train_test_split\n",
    "import sklearn.metrics as metrics\n",
    "x_train, x_test, y_train, y_test = train_test_split(x, y, test_size=0.2, random_state=1)\n",
    "xMean = np.mean(x_train)\n",
    "yMean = np.mean(y_train)"
   ]
  },
  {
   "cell_type": "code",
   "execution_count": 70,
   "metadata": {},
   "outputs": [
    {
     "data": {
      "text/plain": [
       "numpy.ndarray"
      ]
     },
     "execution_count": 70,
     "metadata": {},
     "output_type": "execute_result"
    }
   ],
   "source": [
    "type(x_train)"
   ]
  },
  {
   "cell_type": "code",
   "execution_count": 71,
   "metadata": {},
   "outputs": [
    {
     "data": {
      "text/plain": [
       "0.2701648619318752"
      ]
     },
     "execution_count": 71,
     "metadata": {},
     "output_type": "execute_result"
    }
   ],
   "source": [
    "b1 = sum((x_train - xMean) * (y_train - yMean)) / sum((x_train - xMean) ** 2)\n",
    "b1"
   ]
  },
  {
   "cell_type": "code",
   "execution_count": 72,
   "metadata": {},
   "outputs": [
    {
     "data": {
      "text/plain": [
       "302.3202446168898"
      ]
     },
     "execution_count": 72,
     "metadata": {},
     "output_type": "execute_result"
    }
   ],
   "source": [
    "b0 = yMean - b1 * xMean\n",
    "b0"
   ]
  },
  {
   "cell_type": "code",
   "execution_count": 78,
   "metadata": {},
   "outputs": [
    {
     "name": "stdout",
     "output_type": "stream",
     "text": [
      "0.6594432073670696\n",
      "69.93989959279556\n"
     ]
    }
   ],
   "source": [
    "y_train_pred = b0 + b1 * x_train\n",
    "rss_train = sum((y_train - y_train_pred) ** 2)\n",
    "tss_train = sum((y_train - yMean) ** 2)\n",
    "r2_train = 1 - rss_train / tss_train\n",
    "rmse_train = np.sqrt(rss_train / len(x_train))\n",
    "print(r2_train)\n",
    "print(rmse_train)\n"
   ]
  },
  {
   "cell_type": "code",
   "execution_count": 79,
   "metadata": {},
   "outputs": [
    {
     "name": "stdout",
     "output_type": "stream",
     "text": [
      "0.5595113281138748\n",
      "80.36387262154912\n"
     ]
    }
   ],
   "source": [
    "y_test_pred = b0 + b1 * x_test\n",
    "rss_test = sum((y_test - y_test_pred) ** 2)\n",
    "tss_test = sum((y_test - yMean) ** 2)\n",
    "r2_test = 1 - rss_test / tss_test\n",
    "rmse_test = np.sqrt(rss_test / len(x_test))\n",
    "print(r2_test)\n",
    "print(rmse_test)"
   ]
  },
  {
   "cell_type": "code",
   "execution_count": 80,
   "metadata": {},
   "outputs": [
    {
     "data": {
      "image/png": "[encoded data removed]",
      "text/plain": [
       "<Figure size 432x288 with 1 Axes>"
      ]
     },
     "metadata": {
      "needs_background": "light"
     },
     "output_type": "display_data"
    }
   ],
   "source": [
    "plt.plot(x_train, y_train_pred, color='green', label = 'Training Data')\n",
    "plt.scatter(x_train, y_train, color='red', label='Data Points')\n",
    "plt.xlabel('Head Size(cm^3)')\n",
    "plt.ylabel('Brain Weight(grams)')\n",
    "plt.legend()\n",
    "plt.show()"
   ]
  },
  {
   "cell_type": "code",
   "execution_count": 76,
   "metadata": {},
   "outputs": [
    {
     "data": {
      "image/png": "[encoded data removed]",
      "text/plain": [
       "<Figure size 432x288 with 1 Axes>"
      ]
     },
     "metadata": {
      "needs_background": "light"
     },
     "output_type": "display_data"
    }
   ],
   "source": [
    "plt.plot(x_test, y_test_pred, color='blue', label = 'Testing Data')\n",
    "plt.scatter(x_test, y_test, color='red', label='Data Points')\n",
    "plt.xlabel('Head Size(cm^3)')\n",
    "plt.ylabel('Brain Weight(grams)')\n",
    "plt.legend()\n",
    "plt.show()"
   ]
  },
  {
   "cell_type": "code",
   "execution_count": null,
   "metadata": {},
   "outputs": [],
   "source": []
  },
  {
   "cell_type": "code",
   "execution_count": null,
   "metadata": {},
   "outputs": [],
   "source": []
  }
 ],
 "metadata": {
  "kernelspec": {
   "display_name": "Python 3",
   "language": "python",
   "name": "python3"
  },
  "language_info": {
   "codemirror_mode": {
    "name": "ipython",
    "version": 3
   },
   "file_extension": ".py",
   "mimetype": "text/x-python",
   "name": "python",
   "nbconvert_exporter": "python",
   "pygments_lexer": "ipython3",
   "version": "3.7.4"
  }
 },
 "nbformat": 4,
 "nbformat_minor": 4
}
