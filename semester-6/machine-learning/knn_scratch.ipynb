{
 "cells": [
  {
   "cell_type": "code",
   "execution_count": 106,
   "metadata": {},
   "outputs": [],
   "source": [
    "%matplotlib inline\n",
    "import matplotlib.pyplot as plt\n",
    "import numpy as np\n",
    "import pandas as pd\n",
    "from sklearn import datasets, neighbors, model_selection"
   ]
  },
  {
   "cell_type": "code",
   "execution_count": 107,
   "metadata": {},
   "outputs": [],
   "source": [
    "def normalize(a):\n",
    "    return (np.max(a) - a) / (np.max(a) - np.min(a))\n",
    "\n",
    "def accuracy(true, pred):\n",
    "    return np.mean(true == pred) * 100\n",
    "\n",
    "def knn_predict(x_test, y_test, x_train, y_train, k=5):\n",
    "    y_pred = np.empty(y_test.shape)\n",
    "    for i in range(len(x_test)):\n",
    "        dist = np.sqrt(np.sum((x_test[i] - x_train) ** 2, 1))\n",
    "        indices = np.argpartition(dist, k)[:k]\n",
    "        candidates = y_train[indices]\n",
    "        values, counts = np.unique(candidates, return_counts=True)\n",
    "        y_pred[i] = values[np.argmax(counts)]\n",
    "    return y_pred"
   ]
  },
  {
   "cell_type": "code",
   "execution_count": 108,
   "metadata": {},
   "outputs": [],
   "source": [
    "x, y = datasets.load_breast_cancer(return_X_y=True)\n",
    "x_norm = np.apply_along_axis(normalize, 0, x)\n",
    "x_train, x_test, y_train, y_test = model_selection.train_test_split(x_norm, y, test_size=0.3)"
   ]
  },
  {
   "cell_type": "code",
   "execution_count": 109,
   "metadata": {},
   "outputs": [
    {
     "name": "stdout",
     "output_type": "stream",
     "text": [
      "Training accuracy 97.98994974874373\n",
      "Testing accuracy: 97.6608187134503\n"
     ]
    }
   ],
   "source": [
    "knn = neighbors.KNeighborsClassifier().fit(x_train, y_train)\n",
    "y_train_pred = knn.predict(x_train)\n",
    "y_test_pred = knn.predict(x_test)\n",
    "print(\"Training accuracy\", accuracy(y_train, y_train_pred))\n",
    "print(\"Testing accuracy:\", accuracy(y_test, y_test_pred))"
   ]
  },
  {
   "cell_type": "code",
   "execution_count": 110,
   "metadata": {},
   "outputs": [
    {
     "name": "stdout",
     "output_type": "stream",
     "text": [
      "Training accuracy 97.98994974874373\n",
      "Testing accuracy: 97.6608187134503\n"
     ]
    }
   ],
   "source": [
    "y_train_pred = knn_predict(x_train, y_train, x_train, y_train)\n",
    "y_test_pred = knn_predict(x_test, y_test, x_train, y_train)\n",
    "print(\"Training accuracy\", accuracy(y_train, y_train_pred))\n",
    "print(\"Testing accuracy:\", accuracy(y_test, y_test_pred))"
   ]
  },
  {
   "cell_type": "code",
   "execution_count": null,
   "metadata": {},
   "outputs": [],
   "source": []
  }
 ],
 "metadata": {
  "kernelspec": {
   "display_name": "Python 3",
   "language": "python",
   "name": "python3"
  },
  "language_info": {
   "codemirror_mode": {
    "name": "ipython",
    "version": 3
   },
   "file_extension": ".py",
   "mimetype": "text/x-python",
   "name": "python",
   "nbconvert_exporter": "python",
   "pygments_lexer": "ipython3",
   "version": "3.7.7"
  }
 },
 "nbformat": 4,
 "nbformat_minor": 2
}
