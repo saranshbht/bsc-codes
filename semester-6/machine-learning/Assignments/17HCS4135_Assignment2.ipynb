{
 "cells": [
  {
   "cell_type": "markdown",
   "metadata": {},
   "source": [
    "# Imports"
   ]
  },
  {
   "cell_type": "code",
   "execution_count": 29,
   "metadata": {},
   "outputs": [],
   "source": [
    "%matplotlib inline\n",
    "import pandas as pd\n",
    "import numpy as np\n",
    "from sklearn import model_selection, linear_model, metrics\n",
    "import matplotlib.pyplot as plt\n",
    "import tensorflow as tf\n",
    "import warnings\n",
    "warnings.filterwarnings('ignore')"
   ]
  },
  {
   "cell_type": "markdown",
   "metadata": {},
   "source": [
    "# Functions"
   ]
  },
  {
   "cell_type": "code",
   "execution_count": 30,
   "metadata": {},
   "outputs": [],
   "source": [
    "def normalize(a):\n",
    "    return (a - np.min(a)) / (np.max(a) - np.min(a))\n",
    "\n",
    "def normalizeMnist(a):\n",
    "    return a / 255\n",
    "\n",
    "def accuracy(true, pred):\n",
    "    a = true - pred\n",
    "    return len(a[a == 0]) / len(a) * 100\n",
    "\n",
    "def logistic_regression(x, y, iters, alpha):\n",
    "    m = len(x)\n",
    "    cost = np.empty(iters)\n",
    "    acc = np.empty(iters)\n",
    "    error = np.empty(iters)\n",
    "    theta = np.zeros(x.shape[1])\n",
    "    for i in range(iters):\n",
    "        pred = calculate_prob(x, theta)\n",
    "        cost[i] = (-1 / m) * np.sum(y * np.log(pred) + (1 - y) * np.log(1 - pred))\n",
    "        for j in range(x.shape[1]):\n",
    "            theta[j] = theta[j] - (alpha / m) * np.sum((pred - y) * x[:, j])\n",
    "        y_pred = predict(x, theta)\n",
    "        acc[i] = accuracy(y, y_pred)\n",
    "        error[i] = 100 - acc[i]\n",
    "    return theta, cost, acc, error\n",
    "\n",
    "def logistic_regression_with_L1(x, y, iters, alpha, lambda_):\n",
    "    m = len(x)\n",
    "    cost = np.empty(iters)\n",
    "    acc = np.empty(iters)\n",
    "    error = np.empty(iters)\n",
    "    theta = np.zeros(x.shape[1])\n",
    "    for i in range(iters):\n",
    "        pred = calculate_prob(x, theta)\n",
    "        cost[i] = (-1 / m) * np.sum(y * np.log(pred) + (1 - y) * np.log(1 - pred)) + (lambda_ / (2 * m)) * np.sum(np.abs(theta[1:]))\n",
    "        theta[0] = theta[0] - (alpha / m) * np.sum((pred - y) * x[:, 0])\n",
    "        for j in range(1, x.shape[1]):\n",
    "            theta[j] = theta[j] - (alpha / m) * np.sum((pred - y) * x[:, j]) - (alpha * lambda_ / (2 * m)) * np.sign(theta[j]) \n",
    "        y_pred = predict(x, theta)\n",
    "        acc[i] = accuracy(y, y_pred)\n",
    "        error[i] = 100 - acc[i]\n",
    "    return theta, cost, acc, error\n",
    "\n",
    "def logistic_regression_with_L2(x, y, iters, alpha, lambda_):\n",
    "    m = len(x)\n",
    "    cost = np.empty(iters)\n",
    "    acc = np.empty(iters)\n",
    "    error = np.empty(iters)\n",
    "    theta = np.zeros(x.shape[1])\n",
    "    for i in range(iters):\n",
    "        pred = calculate_prob(x, theta)\n",
    "        cost[i] = (-1 / m) * np.sum(y * np.log(pred) + (1 - y) * np.log(1 - pred)) + (lambda_ / (2 * m)) * np.sum(theta[1:] ** 2)\n",
    "        theta[0] = theta[0] - (alpha / m) * np.sum((pred - y) * x[:, 0])\n",
    "        for j in range(1, x.shape[1]):\n",
    "            theta[j] = theta[j] - (alpha / m) * np.sum((pred - y) * x[:, j]) - (alpha * lambda_ / m) * theta[j]\n",
    "        y_pred = predict(x, theta)\n",
    "        acc[i] = accuracy(y, y_pred)\n",
    "        error[i] = 100 - acc[i]\n",
    "    return theta, cost, acc, error\n",
    "\n",
    "def calculate_prob(x, theta):\n",
    "    h = -1 * x @ theta\n",
    "    p = 1 / (1 + np.exp(h))\n",
    "    return p\n",
    "\n",
    "def predict(x, theta):\n",
    "    pred = calculate_prob(x, theta)\n",
    "    pred[pred < 0.5] = 0\n",
    "    pred[pred >= 0.5] = 1\n",
    "    return pred\n",
    "\n",
    "def preprocess(data, normalize):\n",
    "    m = len(data)\n",
    "    data_std = np.apply_along_axis(normalize, 0, data)\n",
    "    data_std = np.c_[np.ones(m), data_std]\n",
    "    return data_std\n",
    "\n",
    "def plot_acc_err(iters, acc, error):\n",
    "    plt.plot(np.arange(iters), acc)\n",
    "    plt.plot(np.arange(iters), error)\n",
    "    plt.legend(['Accuracy', 'Error'])\n",
    "    plt.xlabel('Iterations')\n",
    "    plt.ylabel('Percentage')\n",
    "    plt.show()\n",
    "\n",
    "def convertToBinary(y, i):\n",
    "    yCopy = np.copy(y)\n",
    "    yCopy[yCopy == i] = 100\n",
    "    yCopy[yCopy != 100] = 0\n",
    "    yCopy[yCopy == 100] = 1\n",
    "    return yCopy\n",
    "\n",
    "def logistic_regression_multi(x_train, y_train, x_test, y_test, penalty):\n",
    "    labels = np.unique(np.append(y_train, y_test)).tolist()\n",
    "    theta = np.empty((x_train.shape[1], len(labels)))\n",
    "    model = linear_model.LogisticRegression(penalty=penalty, solver='saga', n_jobs=-1, max_iter=3, multi_class='ovr')\n",
    "    for i in labels:\n",
    "        y_train_Copy = convertToBinary(y_train, i)\n",
    "        y_test_Copy = convertToBinary(y_test, i)\n",
    "        model.fit(x_train, y_train_Copy)\n",
    "        theta[:, i] = model.coef_\n",
    "        y_train_pred = model.predict(x_train)\n",
    "        y_test_pred = model.predict(x_test)\n",
    "        if penalty == 'l2':\n",
    "            y_test_pred_probs = model.predict_proba(x_test)[:, 1]\n",
    "            fpr, tpr, _ = metrics.roc_curve(y_test_Copy, y_test_pred_probs)\n",
    "            plt.plot(fpr, tpr, label='Class ' + str(i))\n",
    "        print(\"Class\", i)\n",
    "        print(\"Accuracy for training set:\", accuracy(y_train_Copy, y_train_pred))\n",
    "        print(\"Accuracy for testing set:\", accuracy(y_test_Copy, y_test_pred))\n",
    "     \n",
    "    if penalty == 'l2':\n",
    "        plt.legend()\n",
    "        plt.title('ROC curves')\n",
    "        plt.xlabel('False Positive Rate')\n",
    "        plt.ylabel('True Positive Rate')\n",
    "        plt.show()\n",
    "    return theta\n",
    "\n",
    "def predict_multi(x, theta):\n",
    "    pred = calculate_prob(x, theta)\n",
    "    pred = np.argmax(pred, axis = 1)\n",
    "    return pred"
   ]
  },
  {
   "cell_type": "markdown",
   "metadata": {},
   "source": [
    "# Loading Income dataset and Preprocessing"
   ]
  },
  {
   "cell_type": "code",
   "execution_count": 31,
   "metadata": {},
   "outputs": [],
   "source": [
    "train = pd.read_csv('Datasets/train_new.csv', header=None)\n",
    "test = pd.read_csv('Datasets/test_new.csv', header=None)\n",
    "test_percent = len(test) / (len(test) + len(train))\n",
    "\n",
    "data = pd.concat([train, test])\n",
    "x_data, y_data = data.iloc[:, :-1], data.iloc[:, -1].values\n",
    "x_data = pd.get_dummies(x_data).values\n",
    "x_data = preprocess(x_data, normalize)\n",
    "\n",
    "x_train, x_test, y_train, y_test = model_selection.train_test_split(x_data, y_data, test_size = test_percent, shuffle=False)\n",
    "iters = 100\n",
    "alpha = 2"
   ]
  },
  {
   "cell_type": "markdown",
   "metadata": {},
   "source": [
    "# Logistic Regression on Income dataset without regularization"
   ]
  },
  {
   "cell_type": "code",
   "execution_count": 32,
   "metadata": {},
   "outputs": [
    {
     "data": {
      "image/png": "[encoded data removed]",
      "text/plain": [
       "<Figure size 432x288 with 1 Axes>"
      ]
     },
     "metadata": {
      "needs_background": "light"
     },
     "output_type": "display_data"
    },
    {
     "name": "stdout",
     "output_type": "stream",
     "text": [
      "Training set accuracy : 82.96200517207082\n",
      "Testing set accuracy : 82.96812749003985\n"
     ]
    }
   ],
   "source": [
    "theta, cost, acc, error = logistic_regression(x_train, y_train, iters, alpha)\n",
    "plot_acc_err(iters, acc, error)\n",
    "train_accuracy = acc[-1]\n",
    "y_test_pred = predict(x_test, theta)\n",
    "test_accuracy = accuracy(y_test, y_test_pred)\n",
    "print('Training set accuracy :', train_accuracy)\n",
    "print('Testing set accuracy :', test_accuracy)"
   ]
  },
  {
   "cell_type": "markdown",
   "metadata": {},
   "source": [
    "# Setting regularization parameters for L1 and L2"
   ]
  },
  {
   "cell_type": "code",
   "execution_count": 33,
   "metadata": {},
   "outputs": [],
   "source": [
    "lambda_l1, lambda_l2 = 10, 10"
   ]
  },
  {
   "cell_type": "markdown",
   "metadata": {},
   "source": [
    "# Logistic Regression with L1 regularization on Income dataset"
   ]
  },
  {
   "cell_type": "code",
   "execution_count": 34,
   "metadata": {},
   "outputs": [
    {
     "data": {
      "image/png": "[encoded data removed]",
      "text/plain": [
       "<Figure size 432x288 with 1 Axes>"
      ]
     },
     "metadata": {
      "needs_background": "light"
     },
     "output_type": "display_data"
    },
    {
     "name": "stdout",
     "output_type": "stream",
     "text": [
      "Training set accuracy : 82.93216630196937\n",
      "Testing set accuracy : 83.00796812749005\n"
     ]
    }
   ],
   "source": [
    "theta, cost, acc, error = logistic_regression_with_L1(x_train, y_train, iters, alpha, lambda_l1)\n",
    "plot_acc_err(iters, acc, error)\n",
    "train_accuracy = acc[-1]\n",
    "y_test_pred = predict(x_test, theta)\n",
    "test_accuracy = accuracy(y_test, y_test_pred)\n",
    "print('Training set accuracy :', train_accuracy)\n",
    "print('Testing set accuracy :', test_accuracy)"
   ]
  },
  {
   "cell_type": "markdown",
   "metadata": {},
   "source": [
    "# Logistic Regression with L2 regularization on Income dataset"
   ]
  },
  {
   "cell_type": "code",
   "execution_count": 35,
   "metadata": {},
   "outputs": [
    {
     "data": {
      "image/png": "[encoded data removed]",
      "text/plain": [
       "<Figure size 432x288 with 1 Axes>"
      ]
     },
     "metadata": {
      "needs_background": "light"
     },
     "output_type": "display_data"
    },
    {
     "name": "stdout",
     "output_type": "stream",
     "text": [
      "Training set accuracy : 82.95205888203701\n",
      "Testing set accuracy : 82.97476759628154\n"
     ]
    }
   ],
   "source": [
    "theta, cost, acc, error = logistic_regression_with_L2(x_train, y_train, iters, alpha, lambda_l2)\n",
    "plot_acc_err(iters, acc, error)\n",
    "train_accuracy = acc[-1]\n",
    "y_test_pred = predict(x_test, theta)\n",
    "test_accuracy = accuracy(y_test, y_test_pred)\n",
    "print('Training set accuracy :', train_accuracy)\n",
    "print('Testing set accuracy :', test_accuracy)"
   ]
  },
  {
   "cell_type": "markdown",
   "metadata": {},
   "source": [
    "# Loading MNIST dataset and Preprocessing"
   ]
  },
  {
   "cell_type": "code",
   "execution_count": 36,
   "metadata": {},
   "outputs": [],
   "source": [
    "(x_train, y_train), (x_test, y_test) = tf.keras.datasets.mnist.load_data()\n",
    "\n",
    "x_train.shape = (x_train.shape[0], x_train[0].size)\n",
    "x_test.shape = (x_test.shape[0], x_test[0].size)\n",
    "x_train = preprocess(x_train, normalizeMnist)\n",
    "x_test = preprocess(x_test, normalizeMnist)"
   ]
  },
  {
   "cell_type": "markdown",
   "metadata": {},
   "source": [
    "# Logistic Regression with L1 regularization on MNIST dataset"
   ]
  },
  {
   "cell_type": "code",
   "execution_count": 37,
   "metadata": {},
   "outputs": [
    {
     "name": "stdout",
     "output_type": "stream",
     "text": [
      "Class 0\n",
      "Accuracy for training set: 99.24166666666666\n",
      "Accuracy for testing set: 99.27\n",
      "Class 1\n",
      "Accuracy for training set: 99.20666666666666\n",
      "Accuracy for testing set: 99.37\n",
      "Class 2\n",
      "Accuracy for training set: 97.97666666666667\n",
      "Accuracy for testing set: 98.18\n",
      "Class 3\n",
      "Accuracy for training set: 97.55\n",
      "Accuracy for testing set: 97.76\n",
      "Class 4\n",
      "Accuracy for training set: 98.36666666666667\n",
      "Accuracy for testing set: 98.22999999999999\n",
      "Class 5\n",
      "Accuracy for training set: 97.42666666666666\n",
      "Accuracy for testing set: 97.58\n",
      "Class 6\n",
      "Accuracy for training set: 98.77666666666667\n",
      "Accuracy for testing set: 98.66\n",
      "Class 7\n",
      "Accuracy for training set: 98.50999999999999\n",
      "Accuracy for testing set: 98.48\n",
      "Class 8\n",
      "Accuracy for training set: 96.025\n",
      "Accuracy for testing set: 96.09\n",
      "Class 9\n",
      "Accuracy for training set: 96.50666666666666\n",
      "Accuracy for testing set: 96.61999999999999\n",
      "Overall accuracy for training set: 89.565\n",
      "Overall accuracy for testing set: 89.73\n"
     ]
    }
   ],
   "source": [
    "theta = logistic_regression_multi(x_train, y_train, x_test, y_test, 'l1')\n",
    "\n",
    "y_train_pred = predict_multi(x_train, theta)\n",
    "y_test_pred = predict_multi(x_test, theta)\n",
    "\n",
    "print(\"Overall accuracy for training set:\", accuracy(y_train, y_train_pred))\n",
    "print(\"Overall accuracy for testing set:\", accuracy(y_test, y_test_pred))"
   ]
  },
  {
   "cell_type": "markdown",
   "metadata": {},
   "source": [
    "> **The model is slightly underfitted(because of only three iterations, due to size of data) but with more iterations, the model will improve.**"
   ]
  },
  {
   "cell_type": "markdown",
   "metadata": {},
   "source": [
    "# Logistic Regression with L2 regularization on MNIST dataset"
   ]
  },
  {
   "cell_type": "code",
   "execution_count": 38,
   "metadata": {},
   "outputs": [
    {
     "name": "stdout",
     "output_type": "stream",
     "text": [
      "Class 0\n",
      "Accuracy for training set: 99.23333333333333\n",
      "Accuracy for testing set: 99.19\n",
      "Class 1\n",
      "Accuracy for training set: 99.18666666666667\n",
      "Accuracy for testing set: 99.41\n",
      "Class 2\n",
      "Accuracy for training set: 97.97666666666667\n",
      "Accuracy for testing set: 98.17\n",
      "Class 3\n",
      "Accuracy for training set: 97.58\n",
      "Accuracy for testing set: 97.81\n",
      "Class 4\n",
      "Accuracy for training set: 98.34166666666667\n",
      "Accuracy for testing set: 98.31\n",
      "Class 5\n",
      "Accuracy for training set: 97.39166666666667\n",
      "Accuracy for testing set: 97.6\n",
      "Class 6\n",
      "Accuracy for training set: 98.78166666666667\n",
      "Accuracy for testing set: 98.71\n",
      "Class 7\n",
      "Accuracy for training set: 98.55833333333334\n",
      "Accuracy for testing set: 98.47\n",
      "Class 8\n",
      "Accuracy for training set: 95.99833333333333\n",
      "Accuracy for testing set: 95.98\n",
      "Class 9\n",
      "Accuracy for training set: 96.44166666666666\n",
      "Accuracy for testing set: 96.61\n"
     ]
    },
    {
     "data": {
      "image/png": "[encoded data removed]",
      "text/plain": [
       "<Figure size 432x288 with 1 Axes>"
      ]
     },
     "metadata": {
      "needs_background": "light"
     },
     "output_type": "display_data"
    },
    {
     "name": "stdout",
     "output_type": "stream",
     "text": [
      "Overall accuracy for training set: 89.69500000000001\n",
      "Overall accuracy for testing set: 89.88000000000001\n"
     ]
    }
   ],
   "source": [
    "theta = logistic_regression_multi(x_train, y_train, x_test, y_test, 'l2')\n",
    "\n",
    "y_train_pred = predict_multi(x_train, theta)\n",
    "y_test_pred = predict_multi(x_test, theta)\n",
    "\n",
    "print(\"Overall accuracy for training set:\", accuracy(y_train, y_train_pred))\n",
    "print(\"Overall accuracy for testing set:\", accuracy(y_test, y_test_pred))"
   ]
  },
  {
   "cell_type": "markdown",
   "metadata": {},
   "source": [
    "> **The model is slightly underfitted(because of only three iterations, due to size of data) but with more iterations, the model will improve.**"
   ]
  },
  {
   "cell_type": "code",
   "execution_count": null,
   "metadata": {},
   "outputs": [],
   "source": []
  }
 ],
 "metadata": {
  "kernelspec": {
   "display_name": "Python 3",
   "language": "python",
   "name": "python3"
  },
  "language_info": {
   "codemirror_mode": {
    "name": "ipython",
    "version": 3
   },
   "file_extension": ".py",
   "mimetype": "text/x-python",
   "name": "python",
   "nbconvert_exporter": "python",
   "pygments_lexer": "ipython3",
   "version": "3.7.7"
  }
 },
 "nbformat": 4,
 "nbformat_minor": 2
}
