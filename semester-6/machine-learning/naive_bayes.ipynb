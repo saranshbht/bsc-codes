{
 "cells": [
  {
   "cell_type": "code",
   "execution_count": 1,
   "metadata": {},
   "outputs": [],
   "source": [
    "%matplotlib inline\n",
    "import numpy as np\n",
    "import matplotlib.pyplot as plt\n",
    "from sklearn import datasets, model_selection, naive_bayes, metrics"
   ]
  },
  {
   "cell_type": "code",
   "execution_count": 2,
   "metadata": {},
   "outputs": [],
   "source": [
    "def normalize(a):\n",
    "    return (np.max(a) - a) / (np.max(a) - np.min(a))\n",
    "\n",
    "def accuracy(true, pred):\n",
    "    return np.mean(true == pred) * 100"
   ]
  },
  {
   "cell_type": "code",
   "execution_count": 3,
   "metadata": {},
   "outputs": [],
   "source": [
    "x, y = datasets.load_iris(return_X_y=True)\n",
    "x_norm = np.apply_along_axis(normalize, 0, x)\n",
    "x_train, x_test, y_train, y_test = model_selection.train_test_split(x_norm, y, test_size=0.3)"
   ]
  },
  {
   "cell_type": "code",
   "execution_count": 4,
   "metadata": {},
   "outputs": [
    {
     "name": "stdout",
     "output_type": "stream",
     "text": [
      "Training accuracy 96.19047619047619\n",
      "Testing accuracy: 95.55555555555556\n"
     ]
    }
   ],
   "source": [
    "nb = naive_bayes.GaussianNB().fit(x_train, y_train)\n",
    "y_train_pred = nb.predict(x_train)\n",
    "y_test_pred = nb.predict(x_test)\n",
    "print(\"Training accuracy\", accuracy(y_train, y_train_pred))\n",
    "print(\"Testing accuracy:\", accuracy(y_test, y_test_pred))"
   ]
  },
  {
   "cell_type": "code",
   "execution_count": 8,
   "metadata": {},
   "outputs": [
    {
     "data": {
      "text/plain": [
       "(array([0, 1, 2]), array([35, 35, 35], dtype=int64))"
      ]
     },
     "execution_count": 8,
     "metadata": {},
     "output_type": "execute_result"
    }
   ],
   "source": [
    "unique, counts = np.unique(y_train, return_counts=True)\n",
    "unique, counts"
   ]
  },
  {
   "cell_type": "code",
   "execution_count": null,
   "metadata": {},
   "outputs": [],
   "source": []
  },
  {
   "cell_type": "code",
   "execution_count": null,
   "metadata": {},
   "outputs": [],
   "source": []
  },
  {
   "cell_type": "code",
   "execution_count": 3,
   "metadata": {},
   "outputs": [
    {
     "name": "stdout",
     "output_type": "stream",
     "text": [
      "[[5.006 5.936 6.588]\n",
      " [3.428 2.77  2.974]\n",
      " [1.462 4.26  5.552]\n",
      " [0.246 1.326 2.026]]\n",
      "[[0.34894699 0.51098337 0.62948868]\n",
      " [0.37525458 0.31064449 0.31925538]\n",
      " [0.17191859 0.46518813 0.54634787]\n",
      " [0.10432641 0.19576517 0.27188968]]\n"
     ]
    }
   ],
   "source": [
    "means = np.empty((x.shape[1], len(p)))\n",
    "stds = np.empty_like(means)\n",
    "data = np.hstack((x, y.reshape(len(y), 1)))\n",
    "for i in range(x.shape[1]):\n",
    "    for j in p:\n",
    "        means[i][j] = np.mean(data[data[:, -1] == j][:, i])\n",
    "        stds[i][j] = np.std(data[data[:, -1] == j][:, i])\n",
    "print(means)\n",
    "print(stds)"
   ]
  },
  {
   "cell_type": "code",
   "execution_count": 4,
   "metadata": {},
   "outputs": [
    {
     "name": "stdout",
     "output_type": "stream",
     "text": [
      "[0. 1. 1. 0. 2. 1. 2. 0. 0. 2. 1. 0. 2. 1. 1. 0. 1. 1. 0. 0. 1. 1. 2. 0.\n",
      " 2. 1. 0. 0. 1. 2. 1. 2. 1. 2. 2. 0. 1. 0. 1. 2. 2. 0. 1. 2. 1.]\n",
      "0.9555555555555556\n"
     ]
    }
   ],
   "source": [
    "import math\n",
    "n = len(x_test)\n",
    "pred = np.empty(n)\n",
    "for k in range(n):\n",
    "    maxp = -1\n",
    "    label = -1\n",
    "    for j in p:\n",
    "        prob = 1\n",
    "        for i in range(x.shape[1]):\n",
    "            prob *= 1 / np.sqrt(2 * np.pi * stds[i][j]) * math.exp(-((x_test[k][i] - means[i][j]) ** 2) / (2 * stds[i][j] ** 2))\n",
    "        prob *= p[j] / len(x_test)\n",
    "        if prob > maxp:\n",
    "            maxp = prob\n",
    "            label = j\n",
    "    pred[k] = label\n",
    "print(pred)\n",
    "# print(metrics.accuracy_score(y_test, pred))\n",
    "a = y_test - pred\n",
    "print(1 - len(a[a != 0]) / len(a))"
   ]
  },
  {
   "cell_type": "code",
   "execution_count": 7,
   "metadata": {},
   "outputs": [
    {
     "name": "stdout",
     "output_type": "stream",
     "text": [
      "[[5.7 3.  4.2 1.2]\n",
      " [5.6 3.  4.1 1.3]\n",
      " [6.1 2.6 5.6 1.4]\n",
      " [4.4 3.  1.3 0.2]\n",
      " [5.6 2.8 4.9 2. ]\n",
      " [5.5 2.3 4.  1.3]\n",
      " [7.9 3.8 6.4 2. ]\n",
      " [5.  3.2 1.2 0.2]\n",
      " [5.1 3.5 1.4 0.2]\n",
      " [5.  3.5 1.6 0.6]\n",
      " [5.1 3.7 1.5 0.4]\n",
      " [6.4 2.8 5.6 2.2]\n",
      " [5.1 3.8 1.5 0.3]\n",
      " [6.2 2.2 4.5 1.5]\n",
      " [7.7 2.6 6.9 2.3]\n",
      " [5.  3.5 1.6 0.6]\n",
      " [6.4 2.8 5.6 2.1]\n",
      " [6.2 2.8 4.8 1.8]\n",
      " [6.3 2.5 5.  1.9]\n",
      " [7.  3.2 4.7 1.4]\n",
      " [6.  2.2 4.  1. ]\n",
      " [6.1 3.  4.6 1.4]\n",
      " [5.6 2.8 4.9 2. ]\n",
      " [5.1 3.4 1.5 0.2]\n",
      " [4.9 3.1 1.5 0.1]\n",
      " [6.1 3.  4.9 1.8]\n",
      " [6.  2.9 4.5 1.5]\n",
      " [5.7 2.8 4.5 1.3]\n",
      " [5.1 3.8 1.9 0.4]\n",
      " [4.5 2.3 1.3 0.3]\n",
      " [5.5 2.3 4.  1.3]\n",
      " [7.9 3.8 6.4 2. ]\n",
      " [5.7 2.5 5.  2. ]\n",
      " [7.7 2.8 6.7 2. ]\n",
      " [5.7 2.9 4.2 1.3]\n",
      " [6.7 3.1 5.6 2.4]\n",
      " [5.  3.5 1.3 0.3]\n",
      " [6.1 2.8 4.7 1.2]\n",
      " [5.7 2.9 4.2 1.3]\n",
      " [6.  2.7 5.1 1.6]\n",
      " [6.3 2.9 5.6 1.8]\n",
      " [6.9 3.2 5.7 2.3]\n",
      " [6.3 2.3 4.4 1.3]\n",
      " [6.3 2.5 4.9 1.5]\n",
      " [5.7 2.5 5.  2. ]\n",
      " [4.8 3.  1.4 0.3]\n",
      " [6.4 3.2 5.3 2.3]\n",
      " [6.3 2.8 5.1 1.5]\n",
      " [6.9 3.1 5.1 2.3]\n",
      " [6.2 2.8 4.8 1.8]\n",
      " [7.2 3.6 6.1 2.5]\n",
      " [5.5 2.3 4.  1.3]\n",
      " [5.5 3.5 1.3 0.2]\n",
      " [6.7 2.5 5.8 1.8]\n",
      " [5.7 3.8 1.7 0.3]\n",
      " [6.4 2.7 5.3 1.9]\n",
      " [4.9 3.1 1.5 0.2]\n",
      " [7.7 3.  6.1 2.3]\n",
      " [7.7 2.8 6.7 2. ]\n",
      " [5.1 3.5 1.4 0.3]\n",
      " [5.7 2.8 4.1 1.3]\n",
      " [6.4 2.7 5.3 1.9]\n",
      " [4.4 3.  1.3 0.2]\n",
      " [5.2 3.4 1.4 0.2]\n",
      " [4.8 3.  1.4 0.3]\n",
      " [5.5 3.5 1.3 0.2]\n",
      " [5.5 4.2 1.4 0.2]\n",
      " [5.4 3.4 1.5 0.4]\n",
      " [6.6 2.9 4.6 1.3]\n",
      " [4.4 3.2 1.3 0.2]\n",
      " [6.3 2.8 5.1 1.5]\n",
      " [6.8 3.  5.5 2.1]\n",
      " [5.8 2.6 4.  1.2]\n",
      " [5.  2.3 3.3 1. ]\n",
      " [4.4 2.9 1.4 0.2]]\n",
      "[1. 1. 2. 0. 2. 1. 2. 0. 0. 0. 0. 2. 0. 1. 2. 0. 2. 2. 2. 1. 1. 1. 2. 0.\n",
      " 0. 2. 1. 1. 0. 0. 1. 2. 2. 2. 1. 2. 0. 1. 1. 1. 2. 2. 1. 1. 2. 0. 2. 2.\n",
      " 2. 2. 2. 1. 0. 2. 0. 2. 0. 2. 2. 0. 1. 2. 0. 0. 0. 0. 0. 0. 1. 0. 2. 2.\n",
      " 1. 1. 0.]\n",
      "[[4.9 3.  1.4 0.2]\n",
      " [4.7 3.2 1.3 0.2]\n",
      " [4.6 3.1 1.5 0.2]\n",
      " [5.  3.6 1.4 0.2]\n",
      " [5.4 3.9 1.7 0.4]\n",
      " [4.6 3.4 1.4 0.3]\n",
      " [5.  3.4 1.5 0.2]\n",
      " [5.4 3.7 1.5 0.2]\n",
      " [4.8 3.4 1.6 0.2]\n",
      " [4.8 3.  1.4 0.1]\n",
      " [4.3 3.  1.1 0.1]\n",
      " [5.8 4.  1.2 0.2]\n",
      " [5.7 4.4 1.5 0.4]\n",
      " [5.4 3.9 1.3 0.4]\n",
      " [5.4 3.4 1.7 0.2]\n",
      " [4.6 3.6 1.  0.2]\n",
      " [5.1 3.3 1.7 0.5]\n",
      " [4.8 3.4 1.9 0.2]\n",
      " [5.  3.  1.6 0.2]\n",
      " [5.  3.4 1.6 0.4]\n",
      " [5.2 3.5 1.5 0.2]\n",
      " [4.7 3.2 1.6 0.2]\n",
      " [4.8 3.1 1.6 0.2]\n",
      " [5.2 4.1 1.5 0.1]\n",
      " [4.9 3.6 1.4 0.1]\n",
      " [5.1 3.8 1.6 0.2]\n",
      " [4.6 3.2 1.4 0.2]\n",
      " [5.3 3.7 1.5 0.2]\n",
      " [5.  3.3 1.4 0.2]\n",
      " [6.4 3.2 4.5 1.5]\n",
      " [6.9 3.1 4.9 1.5]\n",
      " [6.5 2.8 4.6 1.5]\n",
      " [6.3 3.3 4.7 1.6]\n",
      " [4.9 2.4 3.3 1. ]\n",
      " [5.2 2.7 3.9 1.4]\n",
      " [5.  2.  3.5 1. ]\n",
      " [5.9 3.  4.2 1.5]\n",
      " [6.1 2.9 4.7 1.4]\n",
      " [5.6 2.9 3.6 1.3]\n",
      " [6.7 3.1 4.4 1.4]\n",
      " [5.6 3.  4.5 1.5]\n",
      " [5.8 2.7 4.1 1. ]\n",
      " [5.6 2.5 3.9 1.1]\n",
      " [5.9 3.2 4.8 1.8]\n",
      " [6.1 2.8 4.  1.3]\n",
      " [6.4 2.9 4.3 1.3]\n",
      " [6.6 3.  4.4 1.4]\n",
      " [6.8 2.8 4.8 1.4]\n",
      " [6.7 3.  5.  1.7]\n",
      " [5.7 2.6 3.5 1. ]\n",
      " [5.5 2.4 3.8 1.1]\n",
      " [5.5 2.4 3.7 1. ]\n",
      " [5.8 2.7 3.9 1.2]\n",
      " [5.4 3.  4.5 1.5]\n",
      " [6.  3.4 4.5 1.6]\n",
      " [6.7 3.1 4.7 1.5]\n",
      " [5.5 2.5 4.  1.3]\n",
      " [5.5 2.6 4.4 1.2]\n",
      " [5.6 2.7 4.2 1.3]\n",
      " [6.2 2.9 4.3 1.3]\n",
      " [5.1 2.5 3.  1.1]\n",
      " [6.3 3.3 6.  2.5]\n",
      " [5.8 2.7 5.1 1.9]\n",
      " [7.1 3.  5.9 2.1]\n",
      " [6.5 3.  5.8 2.2]\n",
      " [7.6 3.  6.6 2.1]\n",
      " [4.9 2.5 4.5 1.7]\n",
      " [7.3 2.9 6.3 1.8]\n",
      " [6.5 3.2 5.1 2. ]\n",
      " [5.8 2.8 5.1 2.4]\n",
      " [6.5 3.  5.5 1.8]\n",
      " [7.7 3.8 6.7 2.2]\n",
      " [6.  2.2 5.  1.5]\n",
      " [6.3 2.7 4.9 1.8]\n",
      " [6.7 3.3 5.7 2.1]\n",
      " [7.2 3.2 6.  1.8]\n",
      " [7.2 3.  5.8 1.6]\n",
      " [7.4 2.8 6.1 1.9]\n",
      " [6.3 3.4 5.6 2.4]\n",
      " [6.4 3.1 5.5 1.8]\n",
      " [6.  3.  4.8 1.8]\n",
      " [6.9 3.1 5.4 2.1]\n",
      " [5.8 2.7 5.1 1.9]\n",
      " [6.8 3.2 5.9 2.3]\n",
      " [6.7 3.3 5.7 2.5]\n",
      " [6.7 3.  5.2 2.3]\n",
      " [6.5 3.  5.2 2. ]\n",
      " [6.2 3.4 5.4 2.3]\n",
      " [5.9 3.  5.1 1.8]]\n",
      "[0. 0. 0. 0. 0. 0. 0. 0. 0. 0. 0. 0. 0. 0. 0. 0. 0. 0. 0. 0. 0. 0. 0. 0.\n",
      " 0. 0. 0. 0. 0. 1. 1. 1. 1. 1. 1. 1. 1. 1. 1. 1. 1. 1. 1. 1. 1. 1. 1. 1.\n",
      " 1. 1. 1. 1. 1. 1. 1. 1. 1. 1. 1. 1. 1. 2. 2. 2. 2. 2. 2. 2. 2. 2. 2. 2.\n",
      " 2. 2. 2. 2. 2. 2. 2. 2. 2. 2. 2. 2. 2. 2. 2. 2. 2.]\n"
     ]
    }
   ],
   "source": [
    "# from sklearn.datasets import load_iris\n",
    "# import numpy as np\n",
    "# import random\n",
    "# ds = load_iris()\n",
    "# x = ds.data\n",
    "# y = ds.target\n",
    "import random\n",
    "dataSet = np.hstack((x, y.reshape(len(y), 1)))\n",
    "trainingSize = int(len(x) * 0.5)\n",
    "randomChoices = random.choices(range(len(x)), k = trainingSize)\n",
    "training = dataSet[randomChoices]\n",
    "testing = np.delete(dataSet, randomChoices, 0)\n",
    "\n",
    "x_training = training[:, :-1]\n",
    "y_training = training[:, -1]\n",
    "x_testing = testing[:, :-1]\n",
    "y_testing = testing[:, -1]\n",
    "print(x_training)\n",
    "print(y_training)\n",
    "print(x_testing)\n",
    "print(y_testing)"
   ]
  },
  {
   "cell_type": "code",
   "execution_count": null,
   "metadata": {},
   "outputs": [],
   "source": []
  }
 ],
 "metadata": {
  "kernelspec": {
   "display_name": "Python 3",
   "language": "python",
   "name": "python3"
  },
  "language_info": {
   "codemirror_mode": {
    "name": "ipython",
    "version": 3
   },
   "file_extension": ".py",
   "mimetype": "text/x-python",
   "name": "python",
   "nbconvert_exporter": "python",
   "pygments_lexer": "ipython3",
   "version": "3.7.4"
  }
 },
 "nbformat": 4,
 "nbformat_minor": 4
}
